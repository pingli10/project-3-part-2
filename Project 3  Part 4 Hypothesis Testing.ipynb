{
 "cells": [
  {
   "cell_type": "code",
   "execution_count": 77,
   "id": "9461d1dd",
   "metadata": {},
   "outputs": [],
   "source": [
    "import pandas as pd\n",
    "import numpy as np\n",
    "import seaborn as sns\n",
    "from scipy import stats"
   ]
  },
  {
   "cell_type": "code",
   "execution_count": 78,
   "id": "a57b8066",
   "metadata": {},
   "outputs": [],
   "source": [
    "data_final_merged = 'Data/final_merged_data.csv.gz'\n",
    "data_basics = 'Data/title_basics.csv.gz'\n",
    "data_rating = 'Data/title.ratings.tsv.gz'"
   ]
  },
  {
   "cell_type": "code",
   "execution_count": 79,
   "id": "a4e1a649",
   "metadata": {},
   "outputs": [],
   "source": [
    "df = pd.read_csv(data_final_merged)\n",
    "db = pd.read_csv(data_basics)\n",
    "df_rating = pd.read_csv(data_rating)"
   ]
  },
  {
   "cell_type": "markdown",
   "id": "1ed2e5c0",
   "metadata": {},
   "source": [
    "The stakeholder's first question is: does the MPAA rating of a movie (G/PG/PG-13/R) affect how much revenue the movie generates?\n",
    "\n",
    "They want you to perform a statistical test to get a mathematically-supported answer.\n",
    "They want you to report if you found a significant difference between ratings.\n",
    "If so, what was the p-value of you analysis?\n",
    "And which rating earns the most revenue?\n",
    "They want you to prepare a visualization that supports your finding."
   ]
  },
  {
   "cell_type": "code",
   "execution_count": 80,
   "id": "4cb46885",
   "metadata": {},
   "outputs": [
    {
     "data": {
      "text/html": [
       "<div>\n",
       "<style scoped>\n",
       "    .dataframe tbody tr th:only-of-type {\n",
       "        vertical-align: middle;\n",
       "    }\n",
       "\n",
       "    .dataframe tbody tr th {\n",
       "        vertical-align: top;\n",
       "    }\n",
       "\n",
       "    .dataframe thead th {\n",
       "        text-align: right;\n",
       "    }\n",
       "</style>\n",
       "<table border=\"1\" class=\"dataframe\">\n",
       "  <thead>\n",
       "    <tr style=\"text-align: right;\">\n",
       "      <th></th>\n",
       "      <th>imdb_id</th>\n",
       "      <th>adult</th>\n",
       "      <th>backdrop_path</th>\n",
       "      <th>belongs_to_collection</th>\n",
       "      <th>budget</th>\n",
       "      <th>genres</th>\n",
       "      <th>homepage</th>\n",
       "      <th>id</th>\n",
       "      <th>original_language</th>\n",
       "      <th>original_title</th>\n",
       "      <th>...</th>\n",
       "      <th>revenue</th>\n",
       "      <th>runtime</th>\n",
       "      <th>spoken_languages</th>\n",
       "      <th>status</th>\n",
       "      <th>tagline</th>\n",
       "      <th>title</th>\n",
       "      <th>video</th>\n",
       "      <th>vote_average</th>\n",
       "      <th>vote_count</th>\n",
       "      <th>certification</th>\n",
       "    </tr>\n",
       "  </thead>\n",
       "  <tbody>\n",
       "    <tr>\n",
       "      <th>0</th>\n",
       "      <td>tt0118694</td>\n",
       "      <td>0.0</td>\n",
       "      <td>/n4GJFGzsc7NinI1VeGDXIcQjtU2.jpg</td>\n",
       "      <td>NaN</td>\n",
       "      <td>150000.0</td>\n",
       "      <td>[{'id': 18, 'name': 'Drama'}, {'id': 10749, 'n...</td>\n",
       "      <td>http://www.wkw-inthemoodforlove.com/</td>\n",
       "      <td>843.0</td>\n",
       "      <td>cn</td>\n",
       "      <td>花樣年華</td>\n",
       "      <td>...</td>\n",
       "      <td>12854953.0</td>\n",
       "      <td>99.0</td>\n",
       "      <td>[{'english_name': 'Cantonese', 'iso_639_1': 'c...</td>\n",
       "      <td>Released</td>\n",
       "      <td>Feel the heat, keep the feeling burning, let t...</td>\n",
       "      <td>In the Mood for Love</td>\n",
       "      <td>0.0</td>\n",
       "      <td>8.108</td>\n",
       "      <td>1982.0</td>\n",
       "      <td>PG</td>\n",
       "    </tr>\n",
       "    <tr>\n",
       "      <th>1</th>\n",
       "      <td>tt0119273</td>\n",
       "      <td>0.0</td>\n",
       "      <td>/f5C03doOWiauu37bToKXtpgP5bS.jpg</td>\n",
       "      <td>{'id': 141086, 'name': 'Heavy Metal Collection...</td>\n",
       "      <td>15000000.0</td>\n",
       "      <td>[{'id': 28, 'name': 'Action'}, {'id': 12, 'nam...</td>\n",
       "      <td>NaN</td>\n",
       "      <td>16225.0</td>\n",
       "      <td>en</td>\n",
       "      <td>Heavy Metal 2000</td>\n",
       "      <td>...</td>\n",
       "      <td>0.0</td>\n",
       "      <td>88.0</td>\n",
       "      <td>[{'english_name': 'English', 'iso_639_1': 'en'...</td>\n",
       "      <td>Released</td>\n",
       "      <td>not to survive the fight in the external world...</td>\n",
       "      <td>Heavy Metal 2000</td>\n",
       "      <td>0.0</td>\n",
       "      <td>6.110</td>\n",
       "      <td>159.0</td>\n",
       "      <td>R</td>\n",
       "    </tr>\n",
       "    <tr>\n",
       "      <th>2</th>\n",
       "      <td>tt0120467</td>\n",
       "      <td>0.0</td>\n",
       "      <td>/knok3mNReKqPTplnnqz7E4dd7mD.jpg</td>\n",
       "      <td>NaN</td>\n",
       "      <td>120000.0</td>\n",
       "      <td>[{'id': 18, 'name': 'Drama'}, {'id': 27, 'name...</td>\n",
       "      <td>NaN</td>\n",
       "      <td>19085.0</td>\n",
       "      <td>en</td>\n",
       "      <td>Vulgar</td>\n",
       "      <td>...</td>\n",
       "      <td>14904.0</td>\n",
       "      <td>87.0</td>\n",
       "      <td>[{'english_name': 'English', 'iso_639_1': 'en'...</td>\n",
       "      <td>Released</td>\n",
       "      <td>Everyone loves a clown... some more than others.</td>\n",
       "      <td>Vulgar</td>\n",
       "      <td>0.0</td>\n",
       "      <td>5.400</td>\n",
       "      <td>42.0</td>\n",
       "      <td>R</td>\n",
       "    </tr>\n",
       "    <tr>\n",
       "      <th>3</th>\n",
       "      <td>tt0120630</td>\n",
       "      <td>0.0</td>\n",
       "      <td>/sPAwM8WxMdXNlqeP4F9DMe9LYoY.jpg</td>\n",
       "      <td>{'id': 718551, 'name': 'Chicken Run Collection...</td>\n",
       "      <td>45000000.0</td>\n",
       "      <td>[{'id': 16, 'name': 'Animation'}, {'id': 35, '...</td>\n",
       "      <td>NaN</td>\n",
       "      <td>7443.0</td>\n",
       "      <td>en</td>\n",
       "      <td>Chicken Run</td>\n",
       "      <td>...</td>\n",
       "      <td>224834564.0</td>\n",
       "      <td>84.0</td>\n",
       "      <td>[{'english_name': 'English', 'iso_639_1': 'en'...</td>\n",
       "      <td>Released</td>\n",
       "      <td>This ain't no chick flick. It's poultry in mot...</td>\n",
       "      <td>Chicken Run</td>\n",
       "      <td>0.0</td>\n",
       "      <td>6.726</td>\n",
       "      <td>4123.0</td>\n",
       "      <td>G</td>\n",
       "    </tr>\n",
       "    <tr>\n",
       "      <th>4</th>\n",
       "      <td>tt0120753</td>\n",
       "      <td>0.0</td>\n",
       "      <td>NaN</td>\n",
       "      <td>NaN</td>\n",
       "      <td>8000000.0</td>\n",
       "      <td>[{'id': 18, 'name': 'Drama'}, {'id': 53, 'name...</td>\n",
       "      <td>NaN</td>\n",
       "      <td>318.0</td>\n",
       "      <td>en</td>\n",
       "      <td>The Million Dollar Hotel</td>\n",
       "      <td>...</td>\n",
       "      <td>105983.0</td>\n",
       "      <td>122.0</td>\n",
       "      <td>[{'english_name': 'English', 'iso_639_1': 'en'...</td>\n",
       "      <td>Released</td>\n",
       "      <td>Everyone has something to hide.</td>\n",
       "      <td>The Million Dollar Hotel</td>\n",
       "      <td>0.0</td>\n",
       "      <td>5.915</td>\n",
       "      <td>254.0</td>\n",
       "      <td>R</td>\n",
       "    </tr>\n",
       "  </tbody>\n",
       "</table>\n",
       "<p>5 rows × 26 columns</p>\n",
       "</div>"
      ],
      "text/plain": [
       "     imdb_id  adult                     backdrop_path  \\\n",
       "0  tt0118694    0.0  /n4GJFGzsc7NinI1VeGDXIcQjtU2.jpg   \n",
       "1  tt0119273    0.0  /f5C03doOWiauu37bToKXtpgP5bS.jpg   \n",
       "2  tt0120467    0.0  /knok3mNReKqPTplnnqz7E4dd7mD.jpg   \n",
       "3  tt0120630    0.0  /sPAwM8WxMdXNlqeP4F9DMe9LYoY.jpg   \n",
       "4  tt0120753    0.0                               NaN   \n",
       "\n",
       "                               belongs_to_collection      budget  \\\n",
       "0                                                NaN    150000.0   \n",
       "1  {'id': 141086, 'name': 'Heavy Metal Collection...  15000000.0   \n",
       "2                                                NaN    120000.0   \n",
       "3  {'id': 718551, 'name': 'Chicken Run Collection...  45000000.0   \n",
       "4                                                NaN   8000000.0   \n",
       "\n",
       "                                              genres  \\\n",
       "0  [{'id': 18, 'name': 'Drama'}, {'id': 10749, 'n...   \n",
       "1  [{'id': 28, 'name': 'Action'}, {'id': 12, 'nam...   \n",
       "2  [{'id': 18, 'name': 'Drama'}, {'id': 27, 'name...   \n",
       "3  [{'id': 16, 'name': 'Animation'}, {'id': 35, '...   \n",
       "4  [{'id': 18, 'name': 'Drama'}, {'id': 53, 'name...   \n",
       "\n",
       "                               homepage       id original_language  \\\n",
       "0  http://www.wkw-inthemoodforlove.com/    843.0                cn   \n",
       "1                                   NaN  16225.0                en   \n",
       "2                                   NaN  19085.0                en   \n",
       "3                                   NaN   7443.0                en   \n",
       "4                                   NaN    318.0                en   \n",
       "\n",
       "             original_title  ...      revenue  runtime  \\\n",
       "0                      花樣年華  ...   12854953.0     99.0   \n",
       "1          Heavy Metal 2000  ...          0.0     88.0   \n",
       "2                    Vulgar  ...      14904.0     87.0   \n",
       "3               Chicken Run  ...  224834564.0     84.0   \n",
       "4  The Million Dollar Hotel  ...     105983.0    122.0   \n",
       "\n",
       "                                    spoken_languages    status  \\\n",
       "0  [{'english_name': 'Cantonese', 'iso_639_1': 'c...  Released   \n",
       "1  [{'english_name': 'English', 'iso_639_1': 'en'...  Released   \n",
       "2  [{'english_name': 'English', 'iso_639_1': 'en'...  Released   \n",
       "3  [{'english_name': 'English', 'iso_639_1': 'en'...  Released   \n",
       "4  [{'english_name': 'English', 'iso_639_1': 'en'...  Released   \n",
       "\n",
       "                                             tagline  \\\n",
       "0  Feel the heat, keep the feeling burning, let t...   \n",
       "1  not to survive the fight in the external world...   \n",
       "2   Everyone loves a clown... some more than others.   \n",
       "3  This ain't no chick flick. It's poultry in mot...   \n",
       "4                    Everyone has something to hide.   \n",
       "\n",
       "                      title  video  vote_average vote_count certification  \n",
       "0      In the Mood for Love    0.0         8.108     1982.0            PG  \n",
       "1          Heavy Metal 2000    0.0         6.110      159.0             R  \n",
       "2                    Vulgar    0.0         5.400       42.0             R  \n",
       "3               Chicken Run    0.0         6.726     4123.0             G  \n",
       "4  The Million Dollar Hotel    0.0         5.915      254.0             R  \n",
       "\n",
       "[5 rows x 26 columns]"
      ]
     },
     "execution_count": 80,
     "metadata": {},
     "output_type": "execute_result"
    }
   ],
   "source": [
    "df.head()"
   ]
  },
  {
   "cell_type": "code",
   "execution_count": 100,
   "id": "441eb33a",
   "metadata": {},
   "outputs": [
    {
     "data": {
      "text/html": [
       "<div>\n",
       "<style scoped>\n",
       "    .dataframe tbody tr th:only-of-type {\n",
       "        vertical-align: middle;\n",
       "    }\n",
       "\n",
       "    .dataframe tbody tr th {\n",
       "        vertical-align: top;\n",
       "    }\n",
       "\n",
       "    .dataframe thead th {\n",
       "        text-align: right;\n",
       "    }\n",
       "</style>\n",
       "<table border=\"1\" class=\"dataframe\">\n",
       "  <thead>\n",
       "    <tr style=\"text-align: right;\">\n",
       "      <th></th>\n",
       "      <th>tconst</th>\n",
       "      <th>titleType</th>\n",
       "      <th>primaryTitle</th>\n",
       "      <th>originalTitle</th>\n",
       "      <th>isAdult</th>\n",
       "      <th>startYear</th>\n",
       "      <th>endYear</th>\n",
       "      <th>runtimeMinutes</th>\n",
       "      <th>genres</th>\n",
       "    </tr>\n",
       "  </thead>\n",
       "  <tbody>\n",
       "    <tr>\n",
       "      <th>0</th>\n",
       "      <td>tt0035423</td>\n",
       "      <td>movie</td>\n",
       "      <td>Kate &amp; Leopold</td>\n",
       "      <td>Kate &amp; Leopold</td>\n",
       "      <td>0</td>\n",
       "      <td>2001</td>\n",
       "      <td>NaN</td>\n",
       "      <td>118</td>\n",
       "      <td>Comedy,Fantasy,Romance</td>\n",
       "    </tr>\n",
       "    <tr>\n",
       "      <th>1</th>\n",
       "      <td>tt0062336</td>\n",
       "      <td>movie</td>\n",
       "      <td>The Tango of the Widower and Its Distorting Mi...</td>\n",
       "      <td>El Tango del Viudo y Su Espejo Deformante</td>\n",
       "      <td>0</td>\n",
       "      <td>2020</td>\n",
       "      <td>NaN</td>\n",
       "      <td>70</td>\n",
       "      <td>Drama</td>\n",
       "    </tr>\n",
       "    <tr>\n",
       "      <th>2</th>\n",
       "      <td>tt0069049</td>\n",
       "      <td>movie</td>\n",
       "      <td>The Other Side of the Wind</td>\n",
       "      <td>The Other Side of the Wind</td>\n",
       "      <td>0</td>\n",
       "      <td>2018</td>\n",
       "      <td>NaN</td>\n",
       "      <td>122</td>\n",
       "      <td>Drama</td>\n",
       "    </tr>\n",
       "    <tr>\n",
       "      <th>3</th>\n",
       "      <td>tt0088751</td>\n",
       "      <td>movie</td>\n",
       "      <td>The Naked Monster</td>\n",
       "      <td>The Naked Monster</td>\n",
       "      <td>0</td>\n",
       "      <td>2005</td>\n",
       "      <td>NaN</td>\n",
       "      <td>100</td>\n",
       "      <td>Comedy,Horror,Sci-Fi</td>\n",
       "    </tr>\n",
       "    <tr>\n",
       "      <th>4</th>\n",
       "      <td>tt0096056</td>\n",
       "      <td>movie</td>\n",
       "      <td>Crime and Punishment</td>\n",
       "      <td>Crime and Punishment</td>\n",
       "      <td>0</td>\n",
       "      <td>2002</td>\n",
       "      <td>NaN</td>\n",
       "      <td>126</td>\n",
       "      <td>Drama</td>\n",
       "    </tr>\n",
       "  </tbody>\n",
       "</table>\n",
       "</div>"
      ],
      "text/plain": [
       "      tconst titleType                                       primaryTitle  \\\n",
       "0  tt0035423     movie                                     Kate & Leopold   \n",
       "1  tt0062336     movie  The Tango of the Widower and Its Distorting Mi...   \n",
       "2  tt0069049     movie                         The Other Side of the Wind   \n",
       "3  tt0088751     movie                                  The Naked Monster   \n",
       "4  tt0096056     movie                               Crime and Punishment   \n",
       "\n",
       "                               originalTitle  isAdult  startYear  endYear  \\\n",
       "0                             Kate & Leopold        0       2001      NaN   \n",
       "1  El Tango del Viudo y Su Espejo Deformante        0       2020      NaN   \n",
       "2                 The Other Side of the Wind        0       2018      NaN   \n",
       "3                          The Naked Monster        0       2005      NaN   \n",
       "4                       Crime and Punishment        0       2002      NaN   \n",
       "\n",
       "   runtimeMinutes                  genres  \n",
       "0             118  Comedy,Fantasy,Romance  \n",
       "1              70                   Drama  \n",
       "2             122                   Drama  \n",
       "3             100    Comedy,Horror,Sci-Fi  \n",
       "4             126                   Drama  "
      ]
     },
     "execution_count": 100,
     "metadata": {},
     "output_type": "execute_result"
    }
   ],
   "source": [
    "db.head()"
   ]
  },
  {
   "cell_type": "code",
   "execution_count": 101,
   "id": "f6a918d0",
   "metadata": {},
   "outputs": [
    {
     "data": {
      "text/html": [
       "<div>\n",
       "<style scoped>\n",
       "    .dataframe tbody tr th:only-of-type {\n",
       "        vertical-align: middle;\n",
       "    }\n",
       "\n",
       "    .dataframe tbody tr th {\n",
       "        vertical-align: top;\n",
       "    }\n",
       "\n",
       "    .dataframe thead th {\n",
       "        text-align: right;\n",
       "    }\n",
       "</style>\n",
       "<table border=\"1\" class=\"dataframe\">\n",
       "  <thead>\n",
       "    <tr style=\"text-align: right;\">\n",
       "      <th></th>\n",
       "      <th>tconst</th>\n",
       "      <th>averageRating</th>\n",
       "      <th>numVotes</th>\n",
       "    </tr>\n",
       "  </thead>\n",
       "  <tbody>\n",
       "    <tr>\n",
       "      <th>0</th>\n",
       "      <td>tt0000001</td>\n",
       "      <td>5.7</td>\n",
       "      <td>1910</td>\n",
       "    </tr>\n",
       "    <tr>\n",
       "      <th>1</th>\n",
       "      <td>tt0000002</td>\n",
       "      <td>5.8</td>\n",
       "      <td>257</td>\n",
       "    </tr>\n",
       "    <tr>\n",
       "      <th>2</th>\n",
       "      <td>tt0000005</td>\n",
       "      <td>6.2</td>\n",
       "      <td>2530</td>\n",
       "    </tr>\n",
       "    <tr>\n",
       "      <th>3</th>\n",
       "      <td>tt0000006</td>\n",
       "      <td>5.1</td>\n",
       "      <td>173</td>\n",
       "    </tr>\n",
       "    <tr>\n",
       "      <th>4</th>\n",
       "      <td>tt0000007</td>\n",
       "      <td>5.4</td>\n",
       "      <td>789</td>\n",
       "    </tr>\n",
       "  </tbody>\n",
       "</table>\n",
       "</div>"
      ],
      "text/plain": [
       "      tconst  averageRating  numVotes\n",
       "0  tt0000001            5.7      1910\n",
       "1  tt0000002            5.8       257\n",
       "2  tt0000005            6.2      2530\n",
       "3  tt0000006            5.1       173\n",
       "4  tt0000007            5.4       789"
      ]
     },
     "execution_count": 101,
     "metadata": {},
     "output_type": "execute_result"
    }
   ],
   "source": [
    "df_rating.head()"
   ]
  },
  {
   "cell_type": "code",
   "execution_count": null,
   "id": "45cbed69",
   "metadata": {},
   "outputs": [],
   "source": []
  },
  {
   "cell_type": "code",
   "execution_count": 81,
   "id": "13e853d8",
   "metadata": {},
   "outputs": [
    {
     "name": "stdout",
     "output_type": "stream",
     "text": [
      "<class 'pandas.core.frame.DataFrame'>\n",
      "RangeIndex: 384 entries, 0 to 383\n",
      "Data columns (total 26 columns):\n",
      " #   Column                 Non-Null Count  Dtype  \n",
      "---  ------                 --------------  -----  \n",
      " 0   imdb_id                384 non-null    object \n",
      " 1   adult                  384 non-null    float64\n",
      " 2   backdrop_path          363 non-null    object \n",
      " 3   belongs_to_collection  81 non-null     object \n",
      " 4   budget                 384 non-null    float64\n",
      " 5   genres                 384 non-null    object \n",
      " 6   homepage               60 non-null     object \n",
      " 7   id                     384 non-null    float64\n",
      " 8   original_language      384 non-null    object \n",
      " 9   original_title         384 non-null    object \n",
      " 10  overview               383 non-null    object \n",
      " 11  popularity             384 non-null    float64\n",
      " 12  poster_path            381 non-null    object \n",
      " 13  production_companies   384 non-null    object \n",
      " 14  production_countries   384 non-null    object \n",
      " 15  release_date           384 non-null    object \n",
      " 16  revenue                384 non-null    float64\n",
      " 17  runtime                384 non-null    float64\n",
      " 18  spoken_languages       384 non-null    object \n",
      " 19  status                 384 non-null    object \n",
      " 20  tagline                345 non-null    object \n",
      " 21  title                  384 non-null    object \n",
      " 22  video                  384 non-null    float64\n",
      " 23  vote_average           384 non-null    float64\n",
      " 24  vote_count             384 non-null    float64\n",
      " 25  certification          384 non-null    object \n",
      "dtypes: float64(9), object(17)\n",
      "memory usage: 78.1+ KB\n"
     ]
    }
   ],
   "source": [
    "df.info()"
   ]
  },
  {
   "cell_type": "code",
   "execution_count": 82,
   "id": "7a1db51a",
   "metadata": {},
   "outputs": [
    {
     "data": {
      "text/plain": [
       "imdb_id                    0\n",
       "adult                      0\n",
       "backdrop_path             21\n",
       "belongs_to_collection    303\n",
       "budget                     0\n",
       "genres                     0\n",
       "homepage                 324\n",
       "id                         0\n",
       "original_language          0\n",
       "original_title             0\n",
       "overview                   1\n",
       "popularity                 0\n",
       "poster_path                3\n",
       "production_companies       0\n",
       "production_countries       0\n",
       "release_date               0\n",
       "revenue                    0\n",
       "runtime                    0\n",
       "spoken_languages           0\n",
       "status                     0\n",
       "tagline                   39\n",
       "title                      0\n",
       "video                      0\n",
       "vote_average               0\n",
       "vote_count                 0\n",
       "certification              0\n",
       "dtype: int64"
      ]
     },
     "execution_count": 82,
     "metadata": {},
     "output_type": "execute_result"
    }
   ],
   "source": [
    "df.isna().sum()"
   ]
  },
  {
   "cell_type": "code",
   "execution_count": 83,
   "id": "8be59a16",
   "metadata": {},
   "outputs": [
    {
     "data": {
      "text/plain": [
       "<AxesSubplot:xlabel='certification', ylabel='revenue'>"
      ]
     },
     "execution_count": 83,
     "metadata": {},
     "output_type": "execute_result"
    },
    {
     "data": {
      "image/png": "[encoded data removed]",
      "text/plain": [
       "<Figure size 432x288 with 1 Axes>"
      ]
     },
     "metadata": {
      "needs_background": "light"
     },
     "output_type": "display_data"
    }
   ],
   "source": [
    "sns.barplot(data=df,x='certification',y='revenue')"
   ]
  },
  {
   "cell_type": "markdown",
   "id": "fc404e61",
   "metadata": {},
   "source": [
    "# First Hypothesis test \n",
    "\n",
    "# Null Hypothesis: Different certification have the same revenue.\n",
    "\n",
    "# Alternative Hypothesis: Different certification have different revenue."
   ]
  },
  {
   "cell_type": "code",
   "execution_count": 84,
   "id": "582d0c7f",
   "metadata": {},
   "outputs": [
    {
     "data": {
      "text/plain": [
       "dict_keys(['PG', 'R', 'G', 'PG-13', 'NR'])"
      ]
     },
     "execution_count": 84,
     "metadata": {},
     "output_type": "execute_result"
    }
   ],
   "source": [
    "\n",
    "## Create groups dictionary. There are only 3 groups, but this is even more helpful when there are many groups\n",
    "groups = {}\n",
    "## Loop through all unique categories\n",
    "for i in df['certification'].unique():\n",
    "    ## Get series for group and rename\n",
    "    data = df.loc[df['certification']==i,'revenue'].copy()\n",
    "    \n",
    "    # save into the dictionary\n",
    "    groups[i] = data\n",
    "groups.keys()"
   ]
  },
  {
   "cell_type": "code",
   "execution_count": 85,
   "id": "9cc4086f",
   "metadata": {},
   "outputs": [
    {
     "name": "stderr",
     "output_type": "stream",
     "text": [
      "/Users/pinl/opt/miniconda3/envs/dojo-env/lib/python3.8/site-packages/scipy/stats/_stats_py.py:1477: UserWarning: kurtosistest only valid for n>=20 ... continuing anyway, n=13\n",
      "  warnings.warn(\"kurtosistest only valid for n>=20 ... continuing \"\n",
      "/Users/pinl/opt/miniconda3/envs/dojo-env/lib/python3.8/site-packages/scipy/stats/_stats_py.py:1477: UserWarning: kurtosistest only valid for n>=20 ... continuing anyway, n=11\n",
      "  warnings.warn(\"kurtosistest only valid for n>=20 ... continuing \"\n"
     ]
    },
    {
     "data": {
      "text/html": [
       "<div>\n",
       "<style scoped>\n",
       "    .dataframe tbody tr th:only-of-type {\n",
       "        vertical-align: middle;\n",
       "    }\n",
       "\n",
       "    .dataframe tbody tr th {\n",
       "        vertical-align: top;\n",
       "    }\n",
       "\n",
       "    .dataframe thead th {\n",
       "        text-align: right;\n",
       "    }\n",
       "</style>\n",
       "<table border=\"1\" class=\"dataframe\">\n",
       "  <thead>\n",
       "    <tr style=\"text-align: right;\">\n",
       "      <th></th>\n",
       "      <th>n</th>\n",
       "      <th>p</th>\n",
       "      <th>test stat</th>\n",
       "    </tr>\n",
       "  </thead>\n",
       "  <tbody>\n",
       "    <tr>\n",
       "      <th>PG</th>\n",
       "      <td>33.0</td>\n",
       "      <td>1.522017e-10</td>\n",
       "      <td>45.211628</td>\n",
       "    </tr>\n",
       "    <tr>\n",
       "      <th>R</th>\n",
       "      <td>203.0</td>\n",
       "      <td>1.340384e-34</td>\n",
       "      <td>155.989874</td>\n",
       "    </tr>\n",
       "    <tr>\n",
       "      <th>G</th>\n",
       "      <td>13.0</td>\n",
       "      <td>2.738366e-05</td>\n",
       "      <td>21.011128</td>\n",
       "    </tr>\n",
       "    <tr>\n",
       "      <th>PG-13</th>\n",
       "      <td>124.0</td>\n",
       "      <td>7.853050e-19</td>\n",
       "      <td>83.376430</td>\n",
       "    </tr>\n",
       "    <tr>\n",
       "      <th>NR</th>\n",
       "      <td>11.0</td>\n",
       "      <td>3.062779e-01</td>\n",
       "      <td>2.366525</td>\n",
       "    </tr>\n",
       "  </tbody>\n",
       "</table>\n",
       "</div>"
      ],
      "text/plain": [
       "           n             p   test stat\n",
       "PG      33.0  1.522017e-10   45.211628\n",
       "R      203.0  1.340384e-34  155.989874\n",
       "G       13.0  2.738366e-05   21.011128\n",
       "PG-13  124.0  7.853050e-19   83.376430\n",
       "NR      11.0  3.062779e-01    2.366525"
      ]
     },
     "execution_count": 85,
     "metadata": {},
     "output_type": "execute_result"
    }
   ],
   "source": [
    "## Running normal test on each group and confirming there are >20 in each group\n",
    "norm_results = {}\n",
    "for i, data in groups.items():\n",
    "    stat, p = stats.normaltest(data)\n",
    "    ## save the p val, test statistic, and the size of the group\n",
    "    norm_results[i] = {'n': len(data),\n",
    "                             'p':p,\n",
    "                             'test stat':stat,}\n",
    "## convert to a dataframe\n",
    "norm_results_df = pd.DataFrame(norm_results).T\n",
    "norm_results_df"
   ]
  },
  {
   "cell_type": "markdown",
   "id": "11f3c9fa",
   "metadata": {},
   "source": [
    "check normality"
   ]
  },
  {
   "cell_type": "markdown",
   "id": "b0235145",
   "metadata": {},
   "source": [
    "our N is not large enough, we move to the non-parametric equivalent test"
   ]
  },
  {
   "cell_type": "code",
   "execution_count": 86,
   "id": "14fd2822",
   "metadata": {},
   "outputs": [
    {
     "name": "stdout",
     "output_type": "stream",
     "text": [
      "KruskalResult(statistic=68.76925098518367, pvalue=4.1282072259603264e-14)\n",
      "True\n"
     ]
    }
   ],
   "source": [
    "# perform the correct hypothesis test\n",
    "# note again the use of the * operator for convenience\n",
    "result = stats.kruskal(*groups.values())\n",
    "print(result)\n",
    "print(result.pvalue <.05)"
   ]
  },
  {
   "cell_type": "markdown",
   "id": "d28350af",
   "metadata": {},
   "source": [
    "pvalue is greater than .05, which means we fail to reject our null hypothesis.It means different certification have the same revenue.\n",
    "\n"
   ]
  },
  {
   "cell_type": "markdown",
   "id": "53e0ff95",
   "metadata": {},
   "source": [
    "# second hypothesis test\n",
    "\n",
    "# null hypothesis:Movies over 2.5 hours and movies less 2.5 hours have the same revenue\n",
    "\n",
    "# alternative hypothesis: the revenue of movies over 2.5 hours is higher than the revenue of movies less than 2.5 hours"
   ]
  },
  {
   "cell_type": "code",
   "execution_count": 87,
   "id": "8e977771",
   "metadata": {},
   "outputs": [],
   "source": [
    "df['hour_over_25'] = df['runtime'].apply(lambda x:True if(x>150) else False)"
   ]
  },
  {
   "cell_type": "code",
   "execution_count": 88,
   "id": "c8a906d8",
   "metadata": {},
   "outputs": [
    {
     "data": {
      "text/html": [
       "<div>\n",
       "<style scoped>\n",
       "    .dataframe tbody tr th:only-of-type {\n",
       "        vertical-align: middle;\n",
       "    }\n",
       "\n",
       "    .dataframe tbody tr th {\n",
       "        vertical-align: top;\n",
       "    }\n",
       "\n",
       "    .dataframe thead th {\n",
       "        text-align: right;\n",
       "    }\n",
       "</style>\n",
       "<table border=\"1\" class=\"dataframe\">\n",
       "  <thead>\n",
       "    <tr style=\"text-align: right;\">\n",
       "      <th></th>\n",
       "      <th>imdb_id</th>\n",
       "      <th>adult</th>\n",
       "      <th>backdrop_path</th>\n",
       "      <th>belongs_to_collection</th>\n",
       "      <th>budget</th>\n",
       "      <th>genres</th>\n",
       "      <th>homepage</th>\n",
       "      <th>id</th>\n",
       "      <th>original_language</th>\n",
       "      <th>original_title</th>\n",
       "      <th>...</th>\n",
       "      <th>runtime</th>\n",
       "      <th>spoken_languages</th>\n",
       "      <th>status</th>\n",
       "      <th>tagline</th>\n",
       "      <th>title</th>\n",
       "      <th>video</th>\n",
       "      <th>vote_average</th>\n",
       "      <th>vote_count</th>\n",
       "      <th>certification</th>\n",
       "      <th>hour_over_25</th>\n",
       "    </tr>\n",
       "  </thead>\n",
       "  <tbody>\n",
       "    <tr>\n",
       "      <th>0</th>\n",
       "      <td>tt0118694</td>\n",
       "      <td>0.0</td>\n",
       "      <td>/n4GJFGzsc7NinI1VeGDXIcQjtU2.jpg</td>\n",
       "      <td>NaN</td>\n",
       "      <td>150000.0</td>\n",
       "      <td>[{'id': 18, 'name': 'Drama'}, {'id': 10749, 'n...</td>\n",
       "      <td>http://www.wkw-inthemoodforlove.com/</td>\n",
       "      <td>843.0</td>\n",
       "      <td>cn</td>\n",
       "      <td>花樣年華</td>\n",
       "      <td>...</td>\n",
       "      <td>99.0</td>\n",
       "      <td>[{'english_name': 'Cantonese', 'iso_639_1': 'c...</td>\n",
       "      <td>Released</td>\n",
       "      <td>Feel the heat, keep the feeling burning, let t...</td>\n",
       "      <td>In the Mood for Love</td>\n",
       "      <td>0.0</td>\n",
       "      <td>8.108</td>\n",
       "      <td>1982.0</td>\n",
       "      <td>PG</td>\n",
       "      <td>False</td>\n",
       "    </tr>\n",
       "    <tr>\n",
       "      <th>1</th>\n",
       "      <td>tt0119273</td>\n",
       "      <td>0.0</td>\n",
       "      <td>/f5C03doOWiauu37bToKXtpgP5bS.jpg</td>\n",
       "      <td>{'id': 141086, 'name': 'Heavy Metal Collection...</td>\n",
       "      <td>15000000.0</td>\n",
       "      <td>[{'id': 28, 'name': 'Action'}, {'id': 12, 'nam...</td>\n",
       "      <td>NaN</td>\n",
       "      <td>16225.0</td>\n",
       "      <td>en</td>\n",
       "      <td>Heavy Metal 2000</td>\n",
       "      <td>...</td>\n",
       "      <td>88.0</td>\n",
       "      <td>[{'english_name': 'English', 'iso_639_1': 'en'...</td>\n",
       "      <td>Released</td>\n",
       "      <td>not to survive the fight in the external world...</td>\n",
       "      <td>Heavy Metal 2000</td>\n",
       "      <td>0.0</td>\n",
       "      <td>6.110</td>\n",
       "      <td>159.0</td>\n",
       "      <td>R</td>\n",
       "      <td>False</td>\n",
       "    </tr>\n",
       "    <tr>\n",
       "      <th>2</th>\n",
       "      <td>tt0120467</td>\n",
       "      <td>0.0</td>\n",
       "      <td>/knok3mNReKqPTplnnqz7E4dd7mD.jpg</td>\n",
       "      <td>NaN</td>\n",
       "      <td>120000.0</td>\n",
       "      <td>[{'id': 18, 'name': 'Drama'}, {'id': 27, 'name...</td>\n",
       "      <td>NaN</td>\n",
       "      <td>19085.0</td>\n",
       "      <td>en</td>\n",
       "      <td>Vulgar</td>\n",
       "      <td>...</td>\n",
       "      <td>87.0</td>\n",
       "      <td>[{'english_name': 'English', 'iso_639_1': 'en'...</td>\n",
       "      <td>Released</td>\n",
       "      <td>Everyone loves a clown... some more than others.</td>\n",
       "      <td>Vulgar</td>\n",
       "      <td>0.0</td>\n",
       "      <td>5.400</td>\n",
       "      <td>42.0</td>\n",
       "      <td>R</td>\n",
       "      <td>False</td>\n",
       "    </tr>\n",
       "    <tr>\n",
       "      <th>3</th>\n",
       "      <td>tt0120630</td>\n",
       "      <td>0.0</td>\n",
       "      <td>/sPAwM8WxMdXNlqeP4F9DMe9LYoY.jpg</td>\n",
       "      <td>{'id': 718551, 'name': 'Chicken Run Collection...</td>\n",
       "      <td>45000000.0</td>\n",
       "      <td>[{'id': 16, 'name': 'Animation'}, {'id': 35, '...</td>\n",
       "      <td>NaN</td>\n",
       "      <td>7443.0</td>\n",
       "      <td>en</td>\n",
       "      <td>Chicken Run</td>\n",
       "      <td>...</td>\n",
       "      <td>84.0</td>\n",
       "      <td>[{'english_name': 'English', 'iso_639_1': 'en'...</td>\n",
       "      <td>Released</td>\n",
       "      <td>This ain't no chick flick. It's poultry in mot...</td>\n",
       "      <td>Chicken Run</td>\n",
       "      <td>0.0</td>\n",
       "      <td>6.726</td>\n",
       "      <td>4123.0</td>\n",
       "      <td>G</td>\n",
       "      <td>False</td>\n",
       "    </tr>\n",
       "    <tr>\n",
       "      <th>4</th>\n",
       "      <td>tt0120753</td>\n",
       "      <td>0.0</td>\n",
       "      <td>NaN</td>\n",
       "      <td>NaN</td>\n",
       "      <td>8000000.0</td>\n",
       "      <td>[{'id': 18, 'name': 'Drama'}, {'id': 53, 'name...</td>\n",
       "      <td>NaN</td>\n",
       "      <td>318.0</td>\n",
       "      <td>en</td>\n",
       "      <td>The Million Dollar Hotel</td>\n",
       "      <td>...</td>\n",
       "      <td>122.0</td>\n",
       "      <td>[{'english_name': 'English', 'iso_639_1': 'en'...</td>\n",
       "      <td>Released</td>\n",
       "      <td>Everyone has something to hide.</td>\n",
       "      <td>The Million Dollar Hotel</td>\n",
       "      <td>0.0</td>\n",
       "      <td>5.915</td>\n",
       "      <td>254.0</td>\n",
       "      <td>R</td>\n",
       "      <td>False</td>\n",
       "    </tr>\n",
       "  </tbody>\n",
       "</table>\n",
       "<p>5 rows × 27 columns</p>\n",
       "</div>"
      ],
      "text/plain": [
       "     imdb_id  adult                     backdrop_path  \\\n",
       "0  tt0118694    0.0  /n4GJFGzsc7NinI1VeGDXIcQjtU2.jpg   \n",
       "1  tt0119273    0.0  /f5C03doOWiauu37bToKXtpgP5bS.jpg   \n",
       "2  tt0120467    0.0  /knok3mNReKqPTplnnqz7E4dd7mD.jpg   \n",
       "3  tt0120630    0.0  /sPAwM8WxMdXNlqeP4F9DMe9LYoY.jpg   \n",
       "4  tt0120753    0.0                               NaN   \n",
       "\n",
       "                               belongs_to_collection      budget  \\\n",
       "0                                                NaN    150000.0   \n",
       "1  {'id': 141086, 'name': 'Heavy Metal Collection...  15000000.0   \n",
       "2                                                NaN    120000.0   \n",
       "3  {'id': 718551, 'name': 'Chicken Run Collection...  45000000.0   \n",
       "4                                                NaN   8000000.0   \n",
       "\n",
       "                                              genres  \\\n",
       "0  [{'id': 18, 'name': 'Drama'}, {'id': 10749, 'n...   \n",
       "1  [{'id': 28, 'name': 'Action'}, {'id': 12, 'nam...   \n",
       "2  [{'id': 18, 'name': 'Drama'}, {'id': 27, 'name...   \n",
       "3  [{'id': 16, 'name': 'Animation'}, {'id': 35, '...   \n",
       "4  [{'id': 18, 'name': 'Drama'}, {'id': 53, 'name...   \n",
       "\n",
       "                               homepage       id original_language  \\\n",
       "0  http://www.wkw-inthemoodforlove.com/    843.0                cn   \n",
       "1                                   NaN  16225.0                en   \n",
       "2                                   NaN  19085.0                en   \n",
       "3                                   NaN   7443.0                en   \n",
       "4                                   NaN    318.0                en   \n",
       "\n",
       "             original_title  ... runtime  \\\n",
       "0                      花樣年華  ...    99.0   \n",
       "1          Heavy Metal 2000  ...    88.0   \n",
       "2                    Vulgar  ...    87.0   \n",
       "3               Chicken Run  ...    84.0   \n",
       "4  The Million Dollar Hotel  ...   122.0   \n",
       "\n",
       "                                    spoken_languages    status  \\\n",
       "0  [{'english_name': 'Cantonese', 'iso_639_1': 'c...  Released   \n",
       "1  [{'english_name': 'English', 'iso_639_1': 'en'...  Released   \n",
       "2  [{'english_name': 'English', 'iso_639_1': 'en'...  Released   \n",
       "3  [{'english_name': 'English', 'iso_639_1': 'en'...  Released   \n",
       "4  [{'english_name': 'English', 'iso_639_1': 'en'...  Released   \n",
       "\n",
       "                                             tagline  \\\n",
       "0  Feel the heat, keep the feeling burning, let t...   \n",
       "1  not to survive the fight in the external world...   \n",
       "2   Everyone loves a clown... some more than others.   \n",
       "3  This ain't no chick flick. It's poultry in mot...   \n",
       "4                    Everyone has something to hide.   \n",
       "\n",
       "                      title video  vote_average  vote_count certification  \\\n",
       "0      In the Mood for Love   0.0         8.108      1982.0            PG   \n",
       "1          Heavy Metal 2000   0.0         6.110       159.0             R   \n",
       "2                    Vulgar   0.0         5.400        42.0             R   \n",
       "3               Chicken Run   0.0         6.726      4123.0             G   \n",
       "4  The Million Dollar Hotel   0.0         5.915       254.0             R   \n",
       "\n",
       "  hour_over_25  \n",
       "0        False  \n",
       "1        False  \n",
       "2        False  \n",
       "3        False  \n",
       "4        False  \n",
       "\n",
       "[5 rows x 27 columns]"
      ]
     },
     "execution_count": 88,
     "metadata": {},
     "output_type": "execute_result"
    }
   ],
   "source": [
    "df.head()"
   ]
  },
  {
   "cell_type": "code",
   "execution_count": 89,
   "id": "590bb879",
   "metadata": {},
   "outputs": [],
   "source": [
    "df = df.loc[df['revenue']>0]"
   ]
  },
  {
   "cell_type": "code",
   "execution_count": 90,
   "id": "797c5515",
   "metadata": {},
   "outputs": [
    {
     "name": "stdout",
     "output_type": "stream",
     "text": [
      "The total movies of over 2.5 hours is 11\n",
      "The total movies of less 2.5 hours is 294 \n"
     ]
    }
   ],
   "source": [
    "## separate the column of interest based on the groups\n",
    "over_df = df.loc[df['hour_over_25']==True,['runtime','revenue','hour_over_25']]\n",
    "not_df = df.loc[df['hour_over_25']==False,['runtime','revenue','hour_over_25']]\n",
    "print(f\"The total movies of over 2.5 hours is {len(over_df)}\")\n",
    "print(f\"The total movies of less 2.5 hours is {len(not_df)} \")"
   ]
  },
  {
   "cell_type": "code",
   "execution_count": 91,
   "id": "b0c28fb0",
   "metadata": {},
   "outputs": [
    {
     "data": {
      "text/html": [
       "<div>\n",
       "<style scoped>\n",
       "    .dataframe tbody tr th:only-of-type {\n",
       "        vertical-align: middle;\n",
       "    }\n",
       "\n",
       "    .dataframe tbody tr th {\n",
       "        vertical-align: top;\n",
       "    }\n",
       "\n",
       "    .dataframe thead th {\n",
       "        text-align: right;\n",
       "    }\n",
       "</style>\n",
       "<table border=\"1\" class=\"dataframe\">\n",
       "  <thead>\n",
       "    <tr style=\"text-align: right;\">\n",
       "      <th></th>\n",
       "      <th>runtime</th>\n",
       "      <th>revenue</th>\n",
       "      <th>hour_over_25</th>\n",
       "    </tr>\n",
       "  </thead>\n",
       "  <tbody>\n",
       "    <tr>\n",
       "      <th>57</th>\n",
       "      <td>155.0</td>\n",
       "      <td>465361176.0</td>\n",
       "      <td>True</td>\n",
       "    </tr>\n",
       "    <tr>\n",
       "      <th>89</th>\n",
       "      <td>165.0</td>\n",
       "      <td>215294342.0</td>\n",
       "      <td>True</td>\n",
       "    </tr>\n",
       "    <tr>\n",
       "      <th>163</th>\n",
       "      <td>199.0</td>\n",
       "      <td>4900000.0</td>\n",
       "      <td>True</td>\n",
       "    </tr>\n",
       "    <tr>\n",
       "      <th>177</th>\n",
       "      <td>154.0</td>\n",
       "      <td>20908467.0</td>\n",
       "      <td>True</td>\n",
       "    </tr>\n",
       "    <tr>\n",
       "      <th>190</th>\n",
       "      <td>179.0</td>\n",
       "      <td>871368364.0</td>\n",
       "      <td>True</td>\n",
       "    </tr>\n",
       "    <tr>\n",
       "      <th>...</th>\n",
       "      <td>...</td>\n",
       "      <td>...</td>\n",
       "      <td>...</td>\n",
       "    </tr>\n",
       "    <tr>\n",
       "      <th>371</th>\n",
       "      <td>105.0</td>\n",
       "      <td>1023156.0</td>\n",
       "      <td>False</td>\n",
       "    </tr>\n",
       "    <tr>\n",
       "      <th>373</th>\n",
       "      <td>113.0</td>\n",
       "      <td>44909486.0</td>\n",
       "      <td>False</td>\n",
       "    </tr>\n",
       "    <tr>\n",
       "      <th>375</th>\n",
       "      <td>113.0</td>\n",
       "      <td>42776760.0</td>\n",
       "      <td>False</td>\n",
       "    </tr>\n",
       "    <tr>\n",
       "      <th>376</th>\n",
       "      <td>119.0</td>\n",
       "      <td>318451.0</td>\n",
       "      <td>False</td>\n",
       "    </tr>\n",
       "    <tr>\n",
       "      <th>379</th>\n",
       "      <td>108.0</td>\n",
       "      <td>4035192.0</td>\n",
       "      <td>False</td>\n",
       "    </tr>\n",
       "  </tbody>\n",
       "</table>\n",
       "<p>305 rows × 3 columns</p>\n",
       "</div>"
      ],
      "text/plain": [
       "     runtime      revenue  hour_over_25\n",
       "57     155.0  465361176.0          True\n",
       "89     165.0  215294342.0          True\n",
       "163    199.0    4900000.0          True\n",
       "177    154.0   20908467.0          True\n",
       "190    179.0  871368364.0          True\n",
       "..       ...          ...           ...\n",
       "371    105.0    1023156.0         False\n",
       "373    113.0   44909486.0         False\n",
       "375    113.0   42776760.0         False\n",
       "376    119.0     318451.0         False\n",
       "379    108.0    4035192.0         False\n",
       "\n",
       "[305 rows x 3 columns]"
      ]
     },
     "execution_count": 91,
     "metadata": {},
     "output_type": "execute_result"
    }
   ],
   "source": [
    "## concatenate the two dataframes for visulziation.\n",
    "plot_df = pd.concat([over_df,not_df],axis=0)\n",
    "plot_df"
   ]
  },
  {
   "cell_type": "code",
   "execution_count": 92,
   "id": "c1f0db07",
   "metadata": {},
   "outputs": [
    {
     "data": {
      "text/plain": [
       "<AxesSubplot:xlabel='hour_over_25', ylabel='revenue'>"
      ]
     },
     "execution_count": 92,
     "metadata": {},
     "output_type": "execute_result"
    },
    {
     "data": {
      "image/png": "[encoded data removed]",
      "text/plain": [
       "<Figure size 432x288 with 1 Axes>"
      ]
     },
     "metadata": {
      "needs_background": "light"
     },
     "output_type": "display_data"
    }
   ],
   "source": [
    "## viusalizing means \n",
    "sns.barplot(data=plot_df,x='hour_over_25',y='revenue')"
   ]
  },
  {
   "cell_type": "code",
   "execution_count": 93,
   "id": "0ddd6a4d",
   "metadata": {},
   "outputs": [
    {
     "data": {
      "text/plain": [
       "57     465361176.0\n",
       "89     215294342.0\n",
       "163      4900000.0\n",
       "177     20908467.0\n",
       "190    871368364.0\n",
       "Name: revenue, dtype: float64"
      ]
     },
     "metadata": {},
     "output_type": "display_data"
    },
    {
     "data": {
      "text/plain": [
       "0     12854953.0\n",
       "2        14904.0\n",
       "3    224834564.0\n",
       "4       105983.0\n",
       "5    546388105.0\n",
       "Name: revenue, dtype: float64"
      ]
     },
     "metadata": {},
     "output_type": "display_data"
    }
   ],
   "source": [
    "## now that we have visualized the groups, we can save a final male_group and female_group \n",
    "# that are. a pandas seris this will make the rest of our workflow simpler than if \n",
    "# we still had a dataframe\n",
    "\n",
    "over_group = over_df['revenue']\n",
    "not_group = not_df['revenue']\n",
    "display(over_group.head(),not_group.head())"
   ]
  },
  {
   "cell_type": "markdown",
   "id": "a7f3fd83",
   "metadata": {},
   "source": [
    "Checking outliers"
   ]
  },
  {
   "cell_type": "code",
   "execution_count": 94,
   "id": "14095d95",
   "metadata": {},
   "outputs": [
    {
     "name": "stdout",
     "output_type": "stream",
     "text": [
      "There are 0 outliers in the discounted group out of 11\n"
     ]
    }
   ],
   "source": [
    "# checking assumptions of 2-sample t-test\n",
    "## checking each group seperately\n",
    "## checking for abs value of z-scores that are > 3\n",
    "is_outlier_over = np.abs(stats.zscore(over_group)) > 3\n",
    "print(f\"There are {is_outlier_over.sum()} outliers in the discounted group out of {len(over_group)}\")"
   ]
  },
  {
   "cell_type": "code",
   "execution_count": 95,
   "id": "10f039a4",
   "metadata": {},
   "outputs": [
    {
     "name": "stdout",
     "output_type": "stream",
     "text": [
      "There are 6 outliers in the non-discouted group out of 294\n"
     ]
    }
   ],
   "source": [
    "# checking assumptions of 2-sample t-test\n",
    "## checking each group seperately\n",
    "## checking for abs value of z-scores that are > 3\n",
    "is_outlier_not = np.abs(stats.zscore(not_group)) > 3\n",
    "print(f\"There are {is_outlier_not.sum()} outliers in the non-discouted group out of {len(not_group)}\") "
   ]
  },
  {
   "cell_type": "code",
   "execution_count": 96,
   "id": "86f37b92",
   "metadata": {},
   "outputs": [
    {
     "data": {
      "text/plain": [
       "0       12854953.0\n",
       "2          14904.0\n",
       "3      224834564.0\n",
       "4         105983.0\n",
       "5      546388105.0\n",
       "          ...     \n",
       "371      1023156.0\n",
       "373     44909486.0\n",
       "375     42776760.0\n",
       "376       318451.0\n",
       "379      4035192.0\n",
       "Name: revenue, Length: 294, dtype: float64"
      ]
     },
     "execution_count": 96,
     "metadata": {},
     "output_type": "execute_result"
    }
   ],
   "source": [
    "not_group.loc[~is_outlier_not]\n",
    "not_group"
   ]
  },
  {
   "cell_type": "code",
   "execution_count": 97,
   "id": "ea2200a1",
   "metadata": {},
   "outputs": [
    {
     "data": {
      "text/plain": [
       "0       12854953.0\n",
       "2          14904.0\n",
       "3      224834564.0\n",
       "4         105983.0\n",
       "6      296339527.0\n",
       "          ...     \n",
       "371      1023156.0\n",
       "373     44909486.0\n",
       "375     42776760.0\n",
       "376       318451.0\n",
       "379      4035192.0\n",
       "Name: revenue, Length: 288, dtype: float64"
      ]
     },
     "execution_count": 97,
     "metadata": {},
     "output_type": "execute_result"
    }
   ],
   "source": [
    "not_group = not_group.loc[~is_outlier_not]\n",
    "not_group"
   ]
  },
  {
   "cell_type": "markdown",
   "id": "a86a5726",
   "metadata": {},
   "source": []
  },
  {
   "cell_type": "code",
   "execution_count": 98,
   "id": "6bf01081",
   "metadata": {},
   "outputs": [
    {
     "name": "stdout",
     "output_type": "stream",
     "text": [
      "ShapiroResult(statistic=0.7760443687438965, pvalue=1.4768544695067698e-19)\n",
      "True\n"
     ]
    }
   ],
   "source": [
    "# normal test males\n",
    "result_m = stats.shapiro(not_group)\n",
    "print(result_m)\n",
    "print(result_m.pvalue<.05)\n"
   ]
  },
  {
   "cell_type": "markdown",
   "id": "9d871cba",
   "metadata": {},
   "source": [
    "Since our p-value was less than .05,the null hypothesis for the test groups abnormal distribution.we will over variance test and give non-parametic test.\n",
    "\n"
   ]
  },
  {
   "cell_type": "code",
   "execution_count": 99,
   "id": "6096a587",
   "metadata": {},
   "outputs": [
    {
     "name": "stdout",
     "output_type": "stream",
     "text": [
      "MannwhitneyuResult(statistic=1888.0, pvalue=0.2808373148776786)\n"
     ]
    },
    {
     "data": {
      "text/plain": [
       "False"
      ]
     },
     "execution_count": 99,
     "metadata": {},
     "output_type": "execute_result"
    }
   ],
   "source": [
    "result = stats.mannwhitneyu(over_group,not_group)\n",
    "print(result)\n",
    "result.pvalue<.05"
   ]
  },
  {
   "cell_type": "markdown",
   "id": "90b0da72",
   "metadata": {},
   "source": [
    "Based on our test result, our pvalue is greater than .05, which means we fail to reject the null hypothesis. In this case, this means that there are no differeces of revenue between over 2.5 hours movies and less 2.5 hours movies."
   ]
  },
  {
   "cell_type": "markdown",
   "id": "451bc5a5",
   "metadata": {},
   "source": []
  },
  {
   "cell_type": "markdown",
   "id": "6f770195",
   "metadata": {},
   "source": [
    "# third hypothesis test\n",
    "\n",
    "Do movies released in 2012 earn less revenue than movies released in 2013?\n",
    "\n",
    "null hypothesis: there is no difference of revenue between movies in 2007 and moives in 2008\n",
    "\n",
    "alternative hypothesis: there is a significance difference between movies in 2007 and moives in 2008"
   ]
  },
  {
   "cell_type": "code",
   "execution_count": 124,
   "id": "79ac948e",
   "metadata": {},
   "outputs": [],
   "source": [
    "df_07 = pd.read_csv('Data/final_tmdb_data_2007.csv.gz')\n",
    "df_08 = pd.read_csv('Data/final_tmdb_data_2008.csv.gz')"
   ]
  },
  {
   "cell_type": "code",
   "execution_count": 131,
   "id": "afadf1f3",
   "metadata": {},
   "outputs": [],
   "source": [
    "dfyear = pd.concat([df_07,df_08])"
   ]
  },
  {
   "cell_type": "code",
   "execution_count": 132,
   "id": "cf85dfb6",
   "metadata": {},
   "outputs": [
    {
     "data": {
      "text/html": [
       "<div>\n",
       "<style scoped>\n",
       "    .dataframe tbody tr th:only-of-type {\n",
       "        vertical-align: middle;\n",
       "    }\n",
       "\n",
       "    .dataframe tbody tr th {\n",
       "        vertical-align: top;\n",
       "    }\n",
       "\n",
       "    .dataframe thead th {\n",
       "        text-align: right;\n",
       "    }\n",
       "</style>\n",
       "<table border=\"1\" class=\"dataframe\">\n",
       "  <thead>\n",
       "    <tr style=\"text-align: right;\">\n",
       "      <th></th>\n",
       "      <th>imdb_id</th>\n",
       "      <th>adult</th>\n",
       "      <th>backdrop_path</th>\n",
       "      <th>belongs_to_collection</th>\n",
       "      <th>budget</th>\n",
       "      <th>genres</th>\n",
       "      <th>homepage</th>\n",
       "      <th>id</th>\n",
       "      <th>original_language</th>\n",
       "      <th>original_title</th>\n",
       "      <th>...</th>\n",
       "      <th>revenue</th>\n",
       "      <th>runtime</th>\n",
       "      <th>spoken_languages</th>\n",
       "      <th>status</th>\n",
       "      <th>tagline</th>\n",
       "      <th>title</th>\n",
       "      <th>video</th>\n",
       "      <th>vote_average</th>\n",
       "      <th>vote_count</th>\n",
       "      <th>certification</th>\n",
       "    </tr>\n",
       "  </thead>\n",
       "  <tbody>\n",
       "    <tr>\n",
       "      <th>0</th>\n",
       "      <td>0</td>\n",
       "      <td>NaN</td>\n",
       "      <td>NaN</td>\n",
       "      <td>NaN</td>\n",
       "      <td>NaN</td>\n",
       "      <td>NaN</td>\n",
       "      <td>NaN</td>\n",
       "      <td>NaN</td>\n",
       "      <td>NaN</td>\n",
       "      <td>NaN</td>\n",
       "      <td>...</td>\n",
       "      <td>NaN</td>\n",
       "      <td>NaN</td>\n",
       "      <td>NaN</td>\n",
       "      <td>NaN</td>\n",
       "      <td>NaN</td>\n",
       "      <td>NaN</td>\n",
       "      <td>NaN</td>\n",
       "      <td>NaN</td>\n",
       "      <td>NaN</td>\n",
       "      <td>NaN</td>\n",
       "    </tr>\n",
       "    <tr>\n",
       "      <th>1</th>\n",
       "      <td>tt0119231</td>\n",
       "      <td>0.0</td>\n",
       "      <td>NaN</td>\n",
       "      <td>NaN</td>\n",
       "      <td>0.0</td>\n",
       "      <td>[{'id': 35, 'name': 'Comedy'}]</td>\n",
       "      <td>NaN</td>\n",
       "      <td>107182.0</td>\n",
       "      <td>en</td>\n",
       "      <td>The Junior Defenders</td>\n",
       "      <td>...</td>\n",
       "      <td>0.0</td>\n",
       "      <td>82.0</td>\n",
       "      <td>[]</td>\n",
       "      <td>Released</td>\n",
       "      <td>NaN</td>\n",
       "      <td>The Junior Defenders</td>\n",
       "      <td>0.0</td>\n",
       "      <td>3.00</td>\n",
       "      <td>1.0</td>\n",
       "      <td>NaN</td>\n",
       "    </tr>\n",
       "    <tr>\n",
       "      <th>2</th>\n",
       "      <td>tt0211933</td>\n",
       "      <td>0.0</td>\n",
       "      <td>/nAVntSurtINQNtYPU7ijgCtgz7W.jpg</td>\n",
       "      <td>NaN</td>\n",
       "      <td>86000000.0</td>\n",
       "      <td>[{'id': 53, 'name': 'Thriller'}, {'id': 80, 'n...</td>\n",
       "      <td>NaN</td>\n",
       "      <td>13483.0</td>\n",
       "      <td>en</td>\n",
       "      <td>Awake</td>\n",
       "      <td>...</td>\n",
       "      <td>14373825.0</td>\n",
       "      <td>84.0</td>\n",
       "      <td>[{'english_name': 'Japanese', 'iso_639_1': 'ja...</td>\n",
       "      <td>Released</td>\n",
       "      <td>Every year, one in 700 people wake up during s...</td>\n",
       "      <td>Awake</td>\n",
       "      <td>0.0</td>\n",
       "      <td>6.43</td>\n",
       "      <td>1126.0</td>\n",
       "      <td>R</td>\n",
       "    </tr>\n",
       "    <tr>\n",
       "      <th>3</th>\n",
       "      <td>tt0213985</td>\n",
       "      <td>0.0</td>\n",
       "      <td>/d9WT4FCjvB3Z6Sx2cYckdPi9rMI.jpg</td>\n",
       "      <td>NaN</td>\n",
       "      <td>0.0</td>\n",
       "      <td>[{'id': 18, 'name': 'Drama'}, {'id': 10749, 'n...</td>\n",
       "      <td>NaN</td>\n",
       "      <td>14608.0</td>\n",
       "      <td>en</td>\n",
       "      <td>Partition</td>\n",
       "      <td>...</td>\n",
       "      <td>0.0</td>\n",
       "      <td>116.0</td>\n",
       "      <td>[{'english_name': 'English', 'iso_639_1': 'en'...</td>\n",
       "      <td>Released</td>\n",
       "      <td>NaN</td>\n",
       "      <td>Partition</td>\n",
       "      <td>0.0</td>\n",
       "      <td>6.20</td>\n",
       "      <td>22.0</td>\n",
       "      <td>R</td>\n",
       "    </tr>\n",
       "    <tr>\n",
       "      <th>4</th>\n",
       "      <td>tt0218140</td>\n",
       "      <td>0.0</td>\n",
       "      <td>NaN</td>\n",
       "      <td>NaN</td>\n",
       "      <td>0.0</td>\n",
       "      <td>[]</td>\n",
       "      <td>NaN</td>\n",
       "      <td>316153.0</td>\n",
       "      <td>en</td>\n",
       "      <td>Death and Taxis</td>\n",
       "      <td>...</td>\n",
       "      <td>0.0</td>\n",
       "      <td>0.0</td>\n",
       "      <td>[]</td>\n",
       "      <td>Released</td>\n",
       "      <td>NaN</td>\n",
       "      <td>Death and Taxis</td>\n",
       "      <td>0.0</td>\n",
       "      <td>0.00</td>\n",
       "      <td>0.0</td>\n",
       "      <td>NaN</td>\n",
       "    </tr>\n",
       "  </tbody>\n",
       "</table>\n",
       "<p>5 rows × 26 columns</p>\n",
       "</div>"
      ],
      "text/plain": [
       "     imdb_id  adult                     backdrop_path belongs_to_collection  \\\n",
       "0          0    NaN                               NaN                   NaN   \n",
       "1  tt0119231    0.0                               NaN                   NaN   \n",
       "2  tt0211933    0.0  /nAVntSurtINQNtYPU7ijgCtgz7W.jpg                   NaN   \n",
       "3  tt0213985    0.0  /d9WT4FCjvB3Z6Sx2cYckdPi9rMI.jpg                   NaN   \n",
       "4  tt0218140    0.0                               NaN                   NaN   \n",
       "\n",
       "       budget                                             genres homepage  \\\n",
       "0         NaN                                                NaN      NaN   \n",
       "1         0.0                     [{'id': 35, 'name': 'Comedy'}]      NaN   \n",
       "2  86000000.0  [{'id': 53, 'name': 'Thriller'}, {'id': 80, 'n...      NaN   \n",
       "3         0.0  [{'id': 18, 'name': 'Drama'}, {'id': 10749, 'n...      NaN   \n",
       "4         0.0                                                 []      NaN   \n",
       "\n",
       "         id original_language        original_title  ...     revenue  runtime  \\\n",
       "0       NaN               NaN                   NaN  ...         NaN      NaN   \n",
       "1  107182.0                en  The Junior Defenders  ...         0.0     82.0   \n",
       "2   13483.0                en                 Awake  ...  14373825.0     84.0   \n",
       "3   14608.0                en             Partition  ...         0.0    116.0   \n",
       "4  316153.0                en       Death and Taxis  ...         0.0      0.0   \n",
       "\n",
       "                                    spoken_languages    status  \\\n",
       "0                                                NaN       NaN   \n",
       "1                                                 []  Released   \n",
       "2  [{'english_name': 'Japanese', 'iso_639_1': 'ja...  Released   \n",
       "3  [{'english_name': 'English', 'iso_639_1': 'en'...  Released   \n",
       "4                                                 []  Released   \n",
       "\n",
       "                                             tagline                 title  \\\n",
       "0                                                NaN                   NaN   \n",
       "1                                                NaN  The Junior Defenders   \n",
       "2  Every year, one in 700 people wake up during s...                 Awake   \n",
       "3                                                NaN             Partition   \n",
       "4                                                NaN       Death and Taxis   \n",
       "\n",
       "   video  vote_average vote_count certification  \n",
       "0    NaN           NaN        NaN           NaN  \n",
       "1    0.0          3.00        1.0           NaN  \n",
       "2    0.0          6.43     1126.0             R  \n",
       "3    0.0          6.20       22.0             R  \n",
       "4    0.0          0.00        0.0           NaN  \n",
       "\n",
       "[5 rows x 26 columns]"
      ]
     },
     "execution_count": 132,
     "metadata": {},
     "output_type": "execute_result"
    }
   ],
   "source": [
    "dfyear.head()"
   ]
  },
  {
   "cell_type": "code",
   "execution_count": 134,
   "id": "61754cd6",
   "metadata": {},
   "outputs": [
    {
     "data": {
      "text/plain": [
       "imdb_id                     0\n",
       "adult                       0\n",
       "backdrop_path            1867\n",
       "belongs_to_collection    3676\n",
       "budget                      0\n",
       "genres                      0\n",
       "homepage                 3058\n",
       "id                          0\n",
       "original_language           0\n",
       "original_title              0\n",
       "overview                   90\n",
       "popularity                  0\n",
       "poster_path               553\n",
       "production_companies        0\n",
       "production_countries        0\n",
       "release_date               58\n",
       "revenue                     0\n",
       "runtime                     0\n",
       "spoken_languages            0\n",
       "status                      0\n",
       "tagline                  2319\n",
       "title                       0\n",
       "video                       0\n",
       "vote_average                0\n",
       "vote_count                  0\n",
       "certification            2678\n",
       "dtype: int64"
      ]
     },
     "execution_count": 134,
     "metadata": {},
     "output_type": "execute_result"
    }
   ],
   "source": [
    "dfyear.isna().sum()"
   ]
  },
  {
   "cell_type": "code",
   "execution_count": 135,
   "id": "2b0c46b8",
   "metadata": {},
   "outputs": [
    {
     "name": "stdout",
     "output_type": "stream",
     "text": [
      "<class 'pandas.core.frame.DataFrame'>\n",
      "Int64Index: 3945 entries, 1 to 2090\n",
      "Data columns (total 26 columns):\n",
      " #   Column                 Non-Null Count  Dtype  \n",
      "---  ------                 --------------  -----  \n",
      " 0   imdb_id                3945 non-null   object \n",
      " 1   adult                  3945 non-null   float64\n",
      " 2   backdrop_path          2078 non-null   object \n",
      " 3   belongs_to_collection  269 non-null    object \n",
      " 4   budget                 3945 non-null   float64\n",
      " 5   genres                 3945 non-null   object \n",
      " 6   homepage               887 non-null    object \n",
      " 7   id                     3945 non-null   float64\n",
      " 8   original_language      3945 non-null   object \n",
      " 9   original_title         3945 non-null   object \n",
      " 10  overview               3855 non-null   object \n",
      " 11  popularity             3945 non-null   float64\n",
      " 12  poster_path            3392 non-null   object \n",
      " 13  production_companies   3945 non-null   object \n",
      " 14  production_countries   3945 non-null   object \n",
      " 15  release_date           3887 non-null   object \n",
      " 16  revenue                3945 non-null   float64\n",
      " 17  runtime                3945 non-null   float64\n",
      " 18  spoken_languages       3945 non-null   object \n",
      " 19  status                 3945 non-null   object \n",
      " 20  tagline                1626 non-null   object \n",
      " 21  title                  3945 non-null   object \n",
      " 22  video                  3945 non-null   float64\n",
      " 23  vote_average           3945 non-null   float64\n",
      " 24  vote_count             3945 non-null   float64\n",
      " 25  certification          1267 non-null   object \n",
      "dtypes: float64(9), object(17)\n",
      "memory usage: 832.1+ KB\n"
     ]
    }
   ],
   "source": [
    "dfyear.info()"
   ]
  },
  {
   "cell_type": "code",
   "execution_count": 133,
   "id": "f6407dad",
   "metadata": {},
   "outputs": [],
   "source": [
    "dfyear.dropna(subset=['revenue'],inplace=True)"
   ]
  },
  {
   "cell_type": "code",
   "execution_count": 136,
   "id": "a4956d1e",
   "metadata": {},
   "outputs": [
    {
     "name": "stdout",
     "output_type": "stream",
     "text": [
      "<class 'pandas.core.frame.DataFrame'>\n",
      "Int64Index: 3945 entries, 1 to 2090\n",
      "Data columns (total 26 columns):\n",
      " #   Column                 Non-Null Count  Dtype  \n",
      "---  ------                 --------------  -----  \n",
      " 0   imdb_id                3945 non-null   object \n",
      " 1   adult                  3945 non-null   float64\n",
      " 2   backdrop_path          2078 non-null   object \n",
      " 3   belongs_to_collection  269 non-null    object \n",
      " 4   budget                 3945 non-null   float64\n",
      " 5   genres                 3945 non-null   object \n",
      " 6   homepage               887 non-null    object \n",
      " 7   id                     3945 non-null   float64\n",
      " 8   original_language      3945 non-null   object \n",
      " 9   original_title         3945 non-null   object \n",
      " 10  overview               3855 non-null   object \n",
      " 11  popularity             3945 non-null   float64\n",
      " 12  poster_path            3392 non-null   object \n",
      " 13  production_companies   3945 non-null   object \n",
      " 14  production_countries   3945 non-null   object \n",
      " 15  release_date           3887 non-null   object \n",
      " 16  revenue                3945 non-null   float64\n",
      " 17  runtime                3945 non-null   float64\n",
      " 18  spoken_languages       3945 non-null   object \n",
      " 19  status                 3945 non-null   object \n",
      " 20  tagline                1626 non-null   object \n",
      " 21  title                  3945 non-null   object \n",
      " 22  video                  3945 non-null   float64\n",
      " 23  vote_average           3945 non-null   float64\n",
      " 24  vote_count             3945 non-null   float64\n",
      " 25  certification          1267 non-null   object \n",
      "dtypes: float64(9), object(17)\n",
      "memory usage: 832.1+ KB\n"
     ]
    }
   ],
   "source": [
    "dfyear.info()"
   ]
  },
  {
   "cell_type": "code",
   "execution_count": 140,
   "id": "0409e5c5",
   "metadata": {},
   "outputs": [],
   "source": [
    "dfyear = dfyear.loc[dfyear['revenue']>0]"
   ]
  },
  {
   "cell_type": "code",
   "execution_count": 141,
   "id": "b2ed6dcc",
   "metadata": {},
   "outputs": [
    {
     "name": "stdout",
     "output_type": "stream",
     "text": [
      "<class 'pandas.core.frame.DataFrame'>\n",
      "Int64Index: 688 entries, 2 to 2086\n",
      "Data columns (total 26 columns):\n",
      " #   Column                 Non-Null Count  Dtype  \n",
      "---  ------                 --------------  -----  \n",
      " 0   imdb_id                688 non-null    object \n",
      " 1   adult                  688 non-null    float64\n",
      " 2   backdrop_path          650 non-null    object \n",
      " 3   belongs_to_collection  117 non-null    object \n",
      " 4   budget                 688 non-null    float64\n",
      " 5   genres                 688 non-null    object \n",
      " 6   homepage               325 non-null    object \n",
      " 7   id                     688 non-null    float64\n",
      " 8   original_language      688 non-null    object \n",
      " 9   original_title         688 non-null    object \n",
      " 10  overview               686 non-null    object \n",
      " 11  popularity             688 non-null    float64\n",
      " 12  poster_path            685 non-null    object \n",
      " 13  production_companies   688 non-null    object \n",
      " 14  production_countries   688 non-null    object \n",
      " 15  release_date           688 non-null    object \n",
      " 16  revenue                688 non-null    float64\n",
      " 17  runtime                688 non-null    float64\n",
      " 18  spoken_languages       688 non-null    object \n",
      " 19  status                 688 non-null    object \n",
      " 20  tagline                540 non-null    object \n",
      " 21  title                  688 non-null    object \n",
      " 22  video                  688 non-null    float64\n",
      " 23  vote_average           688 non-null    float64\n",
      " 24  vote_count             688 non-null    float64\n",
      " 25  certification          513 non-null    object \n",
      "dtypes: float64(9), object(17)\n",
      "memory usage: 145.1+ KB\n"
     ]
    }
   ],
   "source": [
    "dfyear.info()"
   ]
  },
  {
   "cell_type": "code",
   "execution_count": 144,
   "id": "b627d2cc",
   "metadata": {},
   "outputs": [
    {
     "data": {
      "text/plain": [
       "<AxesSubplot:ylabel='revenue'>"
      ]
     },
     "execution_count": 144,
     "metadata": {},
     "output_type": "execute_result"
    },
    {
     "data": {
      "image/png": "[encoded data removed]",
      "text/plain": [
       "<Figure size 432x288 with 1 Axes>"
      ]
     },
     "metadata": {
      "needs_background": "light"
     },
     "output_type": "display_data"
    }
   ],
   "source": [
    "## viusalizing means \n",
    "sns.barplot(data=df_07,y='revenue')"
   ]
  },
  {
   "cell_type": "code",
   "execution_count": 145,
   "id": "a1181072",
   "metadata": {},
   "outputs": [
    {
     "data": {
      "text/plain": [
       "<AxesSubplot:ylabel='revenue'>"
      ]
     },
     "execution_count": 145,
     "metadata": {},
     "output_type": "execute_result"
    },
    {
     "data": {
      "image/png": "[encoded data removed]",
      "text/plain": [
       "<Figure size 432x288 with 1 Axes>"
      ]
     },
     "metadata": {
      "needs_background": "light"
     },
     "output_type": "display_data"
    }
   ],
   "source": [
    "## viusalizing means \n",
    "sns.barplot(data=df_08,y='revenue')"
   ]
  },
  {
   "cell_type": "code",
   "execution_count": 149,
   "id": "1d061f60",
   "metadata": {},
   "outputs": [
    {
     "name": "stdout",
     "output_type": "stream",
     "text": [
      "The total of discounted products sell quantities is 353\n",
      "The total of non-discounted products sell quantities is 335 \n"
     ]
    }
   ],
   "source": [
    "## separate the column of interest based on the groups\n",
    "group_07 = df_07.loc[df_07['revenue']>0,'revenue']\n",
    "group_08 = df_08.loc[df_08['revenue']>0,'revenue']\n",
    "print(f\"The total of discounted products sell quantities is {len(group_07)}\")\n",
    "print(f\"The total of non-discounted products sell quantities is {len(group_08)} \")"
   ]
  },
  {
   "cell_type": "code",
   "execution_count": 150,
   "id": "8c46f221",
   "metadata": {},
   "outputs": [
    {
     "name": "stdout",
     "output_type": "stream",
     "text": [
      "There are 9 outliers in the discounted group out of 353\n"
     ]
    }
   ],
   "source": [
    "# checking assumptions of 2-sample t-test\n",
    "## checking each group seperately\n",
    "## checking for abs value of z-scores that are > 3\n",
    "is_outlier_07 = np.abs(stats.zscore(group_07)) > 3\n",
    "print(f\"There are {is_outlier_07.sum()} outliers in the discounted group out of {len(group_07)}\")"
   ]
  },
  {
   "cell_type": "code",
   "execution_count": 151,
   "id": "f2422577",
   "metadata": {},
   "outputs": [
    {
     "data": {
      "text/plain": [
       "2        14373825.0\n",
       "7       228738393.0\n",
       "9          458232.0\n",
       "10       25005257.0\n",
       "11      258022233.0\n",
       "           ...     \n",
       "1751      2396341.0\n",
       "1756     14249906.0\n",
       "1766      3898774.0\n",
       "1794       618400.0\n",
       "1797      7600000.0\n",
       "Name: revenue, Length: 353, dtype: float64"
      ]
     },
     "execution_count": 151,
     "metadata": {},
     "output_type": "execute_result"
    }
   ],
   "source": [
    "group_07.loc[~is_outlier_07]\n",
    "group_07"
   ]
  },
  {
   "cell_type": "code",
   "execution_count": 152,
   "id": "46096bf3",
   "metadata": {},
   "outputs": [
    {
     "data": {
      "text/plain": [
       "2        14373825.0\n",
       "7       228738393.0\n",
       "9          458232.0\n",
       "10       25005257.0\n",
       "11      258022233.0\n",
       "           ...     \n",
       "1751      2396341.0\n",
       "1756     14249906.0\n",
       "1766      3898774.0\n",
       "1794       618400.0\n",
       "1797      7600000.0\n",
       "Name: revenue, Length: 344, dtype: float64"
      ]
     },
     "execution_count": 152,
     "metadata": {},
     "output_type": "execute_result"
    }
   ],
   "source": [
    "## remove outliers\n",
    "group_07 = group_07.loc[~is_outlier_07]\n",
    "group_07"
   ]
  },
  {
   "cell_type": "code",
   "execution_count": 153,
   "id": "5904c004",
   "metadata": {},
   "outputs": [
    {
     "name": "stdout",
     "output_type": "stream",
     "text": [
      "There are 9 outliers in the non-discouted group out of 335\n"
     ]
    }
   ],
   "source": [
    "# checking assumptions of 2-sample t-test\n",
    "## checking each group seperately\n",
    "## checking for abs value of z-scores that are > 3\n",
    "is_outlier_08 = np.abs(stats.zscore(group_08)) > 3\n",
    "print(f\"There are {is_outlier_08.sum()} outliers in the non-discouted group out of {len(group_08)}\")"
   ]
  },
  {
   "cell_type": "code",
   "execution_count": 154,
   "id": "e02eeab3",
   "metadata": {},
   "outputs": [
    {
     "data": {
      "text/plain": [
       "3        64828421.0\n",
       "8          694782.0\n",
       "11       72109200.0\n",
       "12        2783332.0\n",
       "13      786636033.0\n",
       "           ...     \n",
       "1773      1000000.0\n",
       "1826      6032296.0\n",
       "1847       414000.0\n",
       "2042         4000.0\n",
       "2086       718500.0\n",
       "Name: revenue, Length: 335, dtype: float64"
      ]
     },
     "execution_count": 154,
     "metadata": {},
     "output_type": "execute_result"
    }
   ],
   "source": [
    "group_08.loc[~is_outlier_08]\n",
    "group_08"
   ]
  },
  {
   "cell_type": "markdown",
   "id": "1118c046",
   "metadata": {},
   "source": [
    "\n",
    "Checking for normality\n",
    "\n",
    "According to the workflow on the LP, since both groups have n>15, we can safely ignore the assumption of normality"
   ]
  },
  {
   "cell_type": "code",
   "execution_count": 156,
   "id": "ad94fee8",
   "metadata": {},
   "outputs": [
    {
     "name": "stdout",
     "output_type": "stream",
     "text": [
      "LeveneResult(statistic=9.082929224445865, pvalue=0.002676433044010712)\n",
      "True\n"
     ]
    }
   ],
   "source": [
    "result = stats.levene(group_07,group_08)\n",
    "print(result)\n",
    "print(result.pvalue<.05)"
   ]
  },
  {
   "cell_type": "markdown",
   "id": "56e0b7e7",
   "metadata": {},
   "source": [
    "Since our p-value was less than .05,the null hypothesis for the test groups have unequal variances. "
   ]
  },
  {
   "cell_type": "code",
   "execution_count": 157,
   "id": "b6892617",
   "metadata": {},
   "outputs": [
    {
     "name": "stdout",
     "output_type": "stream",
     "text": [
      "Ttest_indResult(statistic=-2.950766004873367, pvalue=0.003314408462897258)\n"
     ]
    },
    {
     "data": {
      "text/plain": [
       "True"
      ]
     },
     "execution_count": 157,
     "metadata": {},
     "output_type": "execute_result"
    }
   ],
   "source": [
    "result = stats.ttest_ind(group_07,group_08,equal_var=False)\n",
    "print(result)\n",
    "result.pvalue<.05"
   ]
  },
  {
   "cell_type": "markdown",
   "id": "5a37bbc7",
   "metadata": {},
   "source": [
    "\n",
    "Based on our test result, our pvalue is less than .05, which means we reject the null hypothesis. In this case, it means alternative hypothesis: there is a significance difference of revenue between movies in 2007 and moives in 2008"
   ]
  },
  {
   "cell_type": "code",
   "execution_count": 158,
   "id": "c4cbbe17",
   "metadata": {},
   "outputs": [
    {
     "name": "stdout",
     "output_type": "stream",
     "text": [
      "The average revenue of moives in 2007 groups was 42889434.37\n",
      "The average revenue of moives in 2008 groups was 66629736.59\n"
     ]
    }
   ],
   "source": [
    "print(f\"The average revenue of moives in 2007 groups was {group_07.mean():.2f}\")\n",
    "print(f\"The average revenue of moives in 2008 groups was {group_08.mean():.2f}\")"
   ]
  }
 ],
 "metadata": {
  "kernelspec": {
   "display_name": "Python 3 (ipykernel)",
   "language": "python",
   "name": "python3"
  },
  "language_info": {
   "codemirror_mode": {
    "name": "ipython",
    "version": 3
   },
   "file_extension": ".py",
   "mimetype": "text/x-python",
   "name": "python",
   "nbconvert_exporter": "python",
   "pygments_lexer": "ipython3",
   "version": "3.8.13"
  },
  "toc": {
   "base_numbering": 1,
   "nav_menu": {},
   "number_sections": false,
   "sideBar": true,
   "skip_h1_title": false,
   "title_cell": "Table of Contents",
   "title_sidebar": "Contents",
   "toc_cell": false,
   "toc_position": {},
   "toc_section_display": true,
   "toc_window_display": false
  }
 },
 "nbformat": 4,
 "nbformat_minor": 5
}
